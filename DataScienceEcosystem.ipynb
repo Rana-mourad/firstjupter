{
  "metadata": {
    "kernelspec": {
      "name": "python",
      "display_name": "Python (Pyodide)",
      "language": "python"
    },
    "language_info": {
      "codemirror_mode": {
        "name": "python",
        "version": 3
      },
      "file_extension": ".py",
      "mimetype": "text/x-python",
      "name": "python",
      "nbconvert_exporter": "python",
      "pygments_lexer": "ipython3",
      "version": "3.8"
    }
  },
  "nbformat_minor": 4,
  "nbformat": 4,
  "cells": [
    {
      "cell_type": "markdown",
      "source": "# Data Science Tools and Ecosystem",
      "metadata": {}
    },
    {
      "cell_type": "markdown",
      "source": "\nIn this notebook, we provide a comprehensive summary of the tools and ecosystem essential for data science. Explore the key components, frameworks, and technologies that contribute to a robust data science workflow.\n",
      "metadata": {}
    },
    {
      "cell_type": "markdown",
      "source": "# Data Science Programin language \nSome of the popular languages that Data Scientists use are:\n1. python\n2. R\n3. SQL\n4. Julia",
      "metadata": {}
    },
    {
      "cell_type": "markdown",
      "source": "# Commonly Used Data Science Libraries\n\nSome of the commonly used libraries by Data Scientists include:\n\n1. **NumPy**: Providing support for large, multi-dimensional arrays and matrices, along with mathematical functions to operate on these arrays.\n\n2. **Pandas**: A powerful data manipulation and analysis library for Python, offering data structures like DataFrames for efficient data handling and manipulation.\n\n3. **scikit-learn**: An open-source machine learning library for Python, providing simple and efficient tools for data analysis and modeling, including various algorithms for classification, regression, clustering, and more.\n\n4. **Matplotlib**: A comprehensive 2D plotting library for Python, widely used for creating static, animated, and interactive visualizations in data science.\n\n5. **TensorFlow and PyTorch**: Deep learning libraries that offer tools for building and training neural networks, facilitating the development of complex machine learning models.\n",
      "metadata": {}
    },
    {
      "cell_type": "markdown",
      "source": "# Data Science Tools\n\n| Data Science Tools       |\n| ------------------------ |\n| Jupyter Notebooks        |\n| RStudio                  |\n| VSCode with Python       |\n",
      "metadata": {}
    },
    {
      "cell_type": "markdown",
      "source": "### Examples of Evaluating Arithmetic Expressions in Python\n\nBelow are a few examples of evaluating arithmetic expressions in Python.\n",
      "metadata": {}
    },
    {
      "cell_type": "code",
      "source": "# This is a simple arithmetic expression to multiply then add integers.\nx= (3*4)+5\nprint (x)",
      "metadata": {
        "trusted": true
      },
      "outputs": [
        {
          "name": "stdout",
          "text": "17\n",
          "output_type": "stream"
        }
      ],
      "execution_count": 2
    },
    {
      "cell_type": "code",
      "source": "# This will convert 200 minutes to hours by dividing by 60.\nhours = 200 / 60\nprint (hours)\n",
      "metadata": {
        "trusted": true
      },
      "outputs": [
        {
          "name": "stdout",
          "text": "3.3333333333333335\n",
          "output_type": "stream"
        }
      ],
      "execution_count": 3
    },
    {
      "cell_type": "markdown",
      "source": " **Objectives**:\n- List popular languages for Data Science.\n- Introduce commonly used Data Science libraries.\n- Provide examples of evaluating arithmetic expressions in Python.\n- Explore development environment open source tools for Data Science.\n- Demonstrate converting minutes to hours using Python expressions.\n",
      "metadata": {}
    },
    {
      "cell_type": "markdown",
      "source": "## Author\n\nRana Elamir\n",
      "metadata": {}
    },
    {
      "cell_type": "code",
      "source": "",
      "metadata": {
        "trusted": true
      },
      "outputs": [],
      "execution_count": null
    }
  ]
}